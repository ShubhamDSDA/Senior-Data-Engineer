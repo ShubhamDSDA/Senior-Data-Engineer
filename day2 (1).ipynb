{
  "nbformat": 4,
  "nbformat_minor": 0,
  "metadata": {
    "colab": {
      "provenance": []
    },
    "kernelspec": {
      "name": "python3",
      "display_name": "Python 3"
    },
    "language_info": {
      "name": "python"
    }
  },
  "cells": [
    {
      "cell_type": "code",
      "execution_count": 57,
      "metadata": {
        "id": "S0bmpQv15A1j"
      },
      "outputs": [],
      "source": [
        "  # print function"
      ]
    },
    {
      "cell_type": "code",
      "source": [
        "print (\"welcome to dream with data \")"
      ],
      "metadata": {
        "colab": {
          "base_uri": "https://localhost:8080/"
        },
        "id": "saeOuMeM5_1g",
        "outputId": "b84cdcf2-2645-482e-daca-06a6f32a2e03"
      },
      "execution_count": 58,
      "outputs": [
        {
          "output_type": "stream",
          "name": "stdout",
          "text": [
            "welcome to dream with data \n"
          ]
        }
      ]
    },
    {
      "cell_type": "code",
      "source": [
        "a = \"shubham\""
      ],
      "metadata": {
        "id": "TdZXvZsv6fuv"
      },
      "execution_count": 59,
      "outputs": []
    },
    {
      "cell_type": "code",
      "source": [
        "print (a , \"wlcome to dream with data\")"
      ],
      "metadata": {
        "colab": {
          "base_uri": "https://localhost:8080/"
        },
        "id": "m2ViStFk6o2b",
        "outputId": "baf0060a-13f6-4392-ca50-ce1a098139fc"
      },
      "execution_count": 60,
      "outputs": [
        {
          "output_type": "stream",
          "name": "stdout",
          "text": [
            "shubham wlcome to dream with data\n"
          ]
        }
      ]
    },
    {
      "cell_type": "code",
      "source": [
        "b = 20"
      ],
      "metadata": {
        "id": "WHsaPVX267ee"
      },
      "execution_count": 61,
      "outputs": []
    },
    {
      "cell_type": "code",
      "source": [
        "print (\"the number is :-\", b)"
      ],
      "metadata": {
        "colab": {
          "base_uri": "https://localhost:8080/"
        },
        "id": "MA8OajCS7BqL",
        "outputId": "58e1ce93-43c2-4bd2-d699-f50c8a997817"
      },
      "execution_count": 62,
      "outputs": [
        {
          "output_type": "stream",
          "name": "stdout",
          "text": [
            "the number is :- 20\n"
          ]
        }
      ]
    },
    {
      "cell_type": "code",
      "source": [
        "# fprint function"
      ],
      "metadata": {
        "id": "TCfk4wWK7SdN"
      },
      "execution_count": 63,
      "outputs": []
    },
    {
      "cell_type": "code",
      "source": [
        "a = 10\n",
        "b = 20"
      ],
      "metadata": {
        "id": "xe8slZsT889d"
      },
      "execution_count": 64,
      "outputs": []
    },
    {
      "cell_type": "code",
      "source": [
        "print(\"the addition of\", a, \"and\", b, \"is\",a + b)"
      ],
      "metadata": {
        "colab": {
          "base_uri": "https://localhost:8080/"
        },
        "id": "TzB9Mwva9AFY",
        "outputId": "e6ce7e13-5977-44f6-c7a8-6e285c3d2b6e"
      },
      "execution_count": 65,
      "outputs": [
        {
          "output_type": "stream",
          "name": "stdout",
          "text": [
            "the addition of 10 and 20 is 30\n"
          ]
        }
      ]
    },
    {
      "cell_type": "code",
      "source": [
        "a = 100\n",
        "b = 200"
      ],
      "metadata": {
        "id": "L-fIfTS39ZsZ"
      },
      "execution_count": 66,
      "outputs": []
    },
    {
      "cell_type": "code",
      "source": [
        "print(\"the addition of\" , a, \"and\", b, \"is\",a+b)"
      ],
      "metadata": {
        "colab": {
          "base_uri": "https://localhost:8080/"
        },
        "id": "l_qNSRgl9jFP",
        "outputId": "1f169d4a-90b3-4178-ff79-62d88c22d124"
      },
      "execution_count": 67,
      "outputs": [
        {
          "output_type": "stream",
          "name": "stdout",
          "text": [
            "the addition of 100 and 200 is 300\n"
          ]
        }
      ]
    },
    {
      "cell_type": "code",
      "source": [
        "print(f\"the addition of {a} and {b} is {a+b}\")"
      ],
      "metadata": {
        "colab": {
          "base_uri": "https://localhost:8080/"
        },
        "id": "I-j8htE89y24",
        "outputId": "0889a1ea-7522-4b89-b2c8-4f68900f0545"
      },
      "execution_count": 68,
      "outputs": [
        {
          "output_type": "stream",
          "name": "stdout",
          "text": [
            "the addition of 100 and 200 is 300\n"
          ]
        }
      ]
    },
    {
      "cell_type": "code",
      "source": [
        "a =10\n",
        "b= 20"
      ],
      "metadata": {
        "id": "wWL81WVj-rr-"
      },
      "execution_count": 69,
      "outputs": []
    },
    {
      "cell_type": "code",
      "source": [
        "print(f\"the addition of {a} and {b} is {a+b}\")"
      ],
      "metadata": {
        "colab": {
          "base_uri": "https://localhost:8080/"
        },
        "id": "zbDpjYYm-3E-",
        "outputId": "f412493a-e664-428d-8889-74c0abf9dcbc"
      },
      "execution_count": 70,
      "outputs": [
        {
          "output_type": "stream",
          "name": "stdout",
          "text": [
            "the addition of 10 and 20 is 30\n"
          ]
        }
      ]
    },
    {
      "cell_type": "markdown",
      "source": [
        "Typecasting Interview"
      ],
      "metadata": {
        "id": "QSvulJjv_a2M"
      }
    },
    {
      "cell_type": "code",
      "source": [
        "x = 10"
      ],
      "metadata": {
        "id": "wTX1afN0_mmT"
      },
      "execution_count": 71,
      "outputs": []
    },
    {
      "cell_type": "code",
      "source": [
        "a = [20,30,40,50]"
      ],
      "metadata": {
        "id": "oo4XqpCCBNiy"
      },
      "execution_count": 76,
      "outputs": []
    },
    {
      "cell_type": "code",
      "source": [
        "type(a)"
      ],
      "metadata": {
        "colab": {
          "base_uri": "https://localhost:8080/"
        },
        "id": "nFSfONhXBrSr",
        "outputId": "93d65afe-bfe6-425b-b1fb-91178275074c"
      },
      "execution_count": 77,
      "outputs": [
        {
          "output_type": "execute_result",
          "data": {
            "text/plain": [
              "list"
            ]
          },
          "metadata": {},
          "execution_count": 77
        }
      ]
    },
    {
      "cell_type": "code",
      "source": [
        "set(a)"
      ],
      "metadata": {
        "colab": {
          "base_uri": "https://localhost:8080/"
        },
        "id": "Pp5mB1EkBtk7",
        "outputId": "201c81cf-e2ff-4a1b-de35-6a39ed4477f2"
      },
      "execution_count": 78,
      "outputs": [
        {
          "output_type": "execute_result",
          "data": {
            "text/plain": [
              "{20, 30, 40, 50}"
            ]
          },
          "metadata": {},
          "execution_count": 78
        }
      ]
    },
    {
      "cell_type": "code",
      "source": [],
      "metadata": {
        "id": "Bls1gkftB1pb"
      },
      "execution_count": null,
      "outputs": []
    },
    {
      "cell_type": "markdown",
      "source": [
        "# LIST---- all about list"
      ],
      "metadata": {
        "id": "RrpkMS2RCE9r"
      }
    },
    {
      "cell_type": "code",
      "source": [
        "# more than one element\n",
        "# list always is [ ] square barces\n",
        "# list is ordered collection\n",
        "# list is mutable (changeble)"
      ],
      "metadata": {
        "id": "f5GwYmjoCKi8"
      },
      "execution_count": 80,
      "outputs": []
    },
    {
      "cell_type": "code",
      "source": [
        "fruits = [\"apple\" , \"banana\" ,\"cherry\",\"dragonfruit\"]"
      ],
      "metadata": {
        "id": "XFd6Ya13CbOG"
      },
      "execution_count": 81,
      "outputs": []
    },
    {
      "cell_type": "code",
      "source": [
        "fruits[0]"
      ],
      "metadata": {
        "colab": {
          "base_uri": "https://localhost:8080/",
          "height": 36
        },
        "id": "4YNUpeQ9GV3g",
        "outputId": "17963d49-ce8a-40ca-de0d-eebc6713ca5a"
      },
      "execution_count": 83,
      "outputs": [
        {
          "output_type": "execute_result",
          "data": {
            "text/plain": [
              "'apple'"
            ],
            "application/vnd.google.colaboratory.intrinsic+json": {
              "type": "string"
            }
          },
          "metadata": {},
          "execution_count": 83
        }
      ]
    },
    {
      "cell_type": "code",
      "source": [
        "fruits[1]"
      ],
      "metadata": {
        "colab": {
          "base_uri": "https://localhost:8080/",
          "height": 36
        },
        "id": "YneKAmOuGcqI",
        "outputId": "c00d45d2-8ba6-436c-e1d7-05d010871cd6"
      },
      "execution_count": 84,
      "outputs": [
        {
          "output_type": "execute_result",
          "data": {
            "text/plain": [
              "'banana'"
            ],
            "application/vnd.google.colaboratory.intrinsic+json": {
              "type": "string"
            }
          },
          "metadata": {},
          "execution_count": 84
        }
      ]
    },
    {
      "cell_type": "code",
      "source": [
        "fruits[-1]"
      ],
      "metadata": {
        "colab": {
          "base_uri": "https://localhost:8080/",
          "height": 36
        },
        "id": "Us7Ndt-GHBnk",
        "outputId": "80cc9bc4-9eb1-46d7-ba0b-c33168aa0c10"
      },
      "execution_count": 85,
      "outputs": [
        {
          "output_type": "execute_result",
          "data": {
            "text/plain": [
              "'dragonfruit'"
            ],
            "application/vnd.google.colaboratory.intrinsic+json": {
              "type": "string"
            }
          },
          "metadata": {},
          "execution_count": 85
        }
      ]
    },
    {
      "cell_type": "code",
      "source": [
        " fruits[1] = \"mango\""
      ],
      "metadata": {
        "id": "eVv0LNQsHWN-"
      },
      "execution_count": 87,
      "outputs": []
    },
    {
      "cell_type": "code",
      "source": [
        "fruits"
      ],
      "metadata": {
        "colab": {
          "base_uri": "https://localhost:8080/"
        },
        "id": "X9LDUIKJKwIu",
        "outputId": "d8be5c8b-645c-4e74-821f-c4424713ed9f"
      },
      "execution_count": 88,
      "outputs": [
        {
          "output_type": "execute_result",
          "data": {
            "text/plain": [
              "['apple', 'mango', 'cherry', 'dragonfruit']"
            ]
          },
          "metadata": {},
          "execution_count": 88
        }
      ]
    },
    {
      "cell_type": "code",
      "source": [
        "fruits[0] = \"banana\""
      ],
      "metadata": {
        "id": "75yU0GSwK7v0"
      },
      "execution_count": 89,
      "outputs": []
    },
    {
      "cell_type": "code",
      "source": [
        "fruits"
      ],
      "metadata": {
        "colab": {
          "base_uri": "https://localhost:8080/"
        },
        "id": "RhLq7ZaGLCKB",
        "outputId": "fbc5bf30-5add-430d-c01d-24a611a880ec"
      },
      "execution_count": 90,
      "outputs": [
        {
          "output_type": "execute_result",
          "data": {
            "text/plain": [
              "['banana', 'mango', 'cherry', 'dragonfruit']"
            ]
          },
          "metadata": {},
          "execution_count": 90
        }
      ]
    },
    {
      "cell_type": "code",
      "source": [
        "fruits[0] = \"apple\""
      ],
      "metadata": {
        "id": "_rofYP2mLD3X"
      },
      "execution_count": 92,
      "outputs": []
    },
    {
      "cell_type": "code",
      "source": [
        "fruits"
      ],
      "metadata": {
        "colab": {
          "base_uri": "https://localhost:8080/"
        },
        "id": "WRAtM2-_LShy",
        "outputId": "4f884de3-ee3a-43ae-a30c-150e3bd830aa"
      },
      "execution_count": 93,
      "outputs": [
        {
          "output_type": "execute_result",
          "data": {
            "text/plain": [
              "['apple', 'mango', 'cherry', 'dragonfruit']"
            ]
          },
          "metadata": {},
          "execution_count": 93
        }
      ]
    },
    {
      "cell_type": "code",
      "source": [
        "fruits.append(\"orange\")"
      ],
      "metadata": {
        "id": "td5JI8ngLdZ1"
      },
      "execution_count": 94,
      "outputs": []
    },
    {
      "cell_type": "code",
      "source": [
        "fruits"
      ],
      "metadata": {
        "colab": {
          "base_uri": "https://localhost:8080/"
        },
        "id": "ZntnCLt-LvqR",
        "outputId": "6f38c0d8-392a-434b-99ec-d80eede486e4"
      },
      "execution_count": 95,
      "outputs": [
        {
          "output_type": "execute_result",
          "data": {
            "text/plain": [
              "['apple', 'mango', 'cherry', 'dragonfruit', 'orange']"
            ]
          },
          "metadata": {},
          "execution_count": 95
        }
      ]
    },
    {
      "cell_type": "code",
      "source": [
        "fruits.extend([\"grapes\",\"pinespple\"])"
      ],
      "metadata": {
        "id": "aZ4ZpPEaLwc7"
      },
      "execution_count": 96,
      "outputs": []
    },
    {
      "cell_type": "code",
      "source": [
        "fruits"
      ],
      "metadata": {
        "colab": {
          "base_uri": "https://localhost:8080/"
        },
        "id": "RlAp44FUNWI5",
        "outputId": "42204476-1d2b-4e62-8b87-33edc22268e7"
      },
      "execution_count": 97,
      "outputs": [
        {
          "output_type": "execute_result",
          "data": {
            "text/plain": [
              "['apple', 'mango', 'cherry', 'dragonfruit', 'orange', 'grapes', 'pinespple']"
            ]
          },
          "metadata": {},
          "execution_count": 97
        }
      ]
    },
    {
      "cell_type": "code",
      "source": [
        "fruits.insert(0,\"kiwi\")"
      ],
      "metadata": {
        "id": "RRFkR0P8NXpl"
      },
      "execution_count": 98,
      "outputs": []
    },
    {
      "cell_type": "code",
      "source": [
        "fruits"
      ],
      "metadata": {
        "colab": {
          "base_uri": "https://localhost:8080/"
        },
        "id": "6VQiWmr6OM6U",
        "outputId": "6382a2a1-4b74-47d7-b4d5-8e0cbf14c008"
      },
      "execution_count": 99,
      "outputs": [
        {
          "output_type": "execute_result",
          "data": {
            "text/plain": [
              "['kiwi',\n",
              " 'apple',\n",
              " 'mango',\n",
              " 'cherry',\n",
              " 'dragonfruit',\n",
              " 'orange',\n",
              " 'grapes',\n",
              " 'pinespple']"
            ]
          },
          "metadata": {},
          "execution_count": 99
        }
      ]
    },
    {
      "cell_type": "code",
      "source": [
        "fruits.remove(\"apple\")"
      ],
      "metadata": {
        "id": "fMTtbSuoOOW4"
      },
      "execution_count": 100,
      "outputs": []
    },
    {
      "cell_type": "code",
      "source": [
        "fruits"
      ],
      "metadata": {
        "colab": {
          "base_uri": "https://localhost:8080/"
        },
        "id": "zvezqdbbO43-",
        "outputId": "504ba409-d711-42c9-dc56-e1e74f4cb5f2"
      },
      "execution_count": 101,
      "outputs": [
        {
          "output_type": "execute_result",
          "data": {
            "text/plain": [
              "['kiwi', 'mango', 'cherry', 'dragonfruit', 'orange', 'grapes', 'pinespple']"
            ]
          },
          "metadata": {},
          "execution_count": 101
        }
      ]
    },
    {
      "cell_type": "code",
      "source": [],
      "metadata": {
        "id": "RHrTM5bmO6kT"
      },
      "execution_count": null,
      "outputs": []
    }
  ]
}